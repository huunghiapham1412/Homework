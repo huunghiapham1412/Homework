{
 "cells": [
  {
   "cell_type": "markdown",
   "id": "d471d0e3-dc43-4de2-a9ee-bb78288b9878",
   "metadata": {},
   "source": [
    "Viết chương trình nhập vào 2 số nguyên `num1` và `num2`. In ra tích của 2 số nguyên đó."
   ]
  },
  {
   "cell_type": "code",
   "execution_count": 1,
   "id": "66c5964d-663f-4238-99e0-01ceeefe5af9",
   "metadata": {},
   "outputs": [
    {
     "name": "stdin",
     "output_type": "stream",
     "text": [
      "Nhập số nguyên thứ nhất:  1\n",
      "Nhập số nguyên thứ hai:  2\n"
     ]
    },
    {
     "name": "stdout",
     "output_type": "stream",
     "text": [
      "1 + 2 = 2\n"
     ]
    }
   ],
   "source": [
    "num1 = int(input(\"Nhập số nguyên thứ nhất: \"))\n",
    "num2 = int(input(\"Nhập số nguyên thứ hai: \"))\n",
    "\n",
    "tich = num1 * num2\n",
    "print(f\"{num1} + {num2} = {tich}\")\n"
   ]
  },
  {
   "cell_type": "markdown",
   "id": "837efee7-2c72-40bc-8d93-c98d4d86fa8e",
   "metadata": {},
   "source": [
    "Bài 2 \n",
    "Nhập vào ba biến `diem_toan`, `diem_ly`, `diem_hoa` và in ra điểm trung bình của ba môn học trên."
   ]
  },
  {
   "cell_type": "code",
   "execution_count": 1,
   "id": "08f4e667-6238-4f41-8892-b209195d591d",
   "metadata": {},
   "outputs": [
    {
     "name": "stdin",
     "output_type": "stream",
     "text": [
      "Nhập điểm môn Toán:  3\n",
      "Nhập điểm môn Lý:  2\n",
      "Nhập điểm môn Hóa:  1\n"
     ]
    },
    {
     "name": "stdout",
     "output_type": "stream",
     "text": [
      "Điểm trung bình của ba môn học là: 2.0\n"
     ]
    }
   ],
   "source": [
    "diem_toan = float(input(\"Nhập điểm môn Toán: \"))\n",
    "diem_ly = float(input(\"Nhập điểm môn Lý: \"))\n",
    "diem_hoa = float(input(\"Nhập điểm môn Hóa: \"))\n",
    "\n",
    "diem_trung_binh = (diem_toan + diem_ly + diem_hoa) / 3\n",
    "\n",
    "print(\"Điểm trung bình của ba môn học là:\", diem_trung_binh)\n"
   ]
  },
  {
   "cell_type": "markdown",
   "id": "a774f721-b5e6-4a30-840d-f89133ea928f",
   "metadata": {},
   "source": [
    "Bài 3\n",
    "Nhập vào vận tốc của đoàn tàu theo đơn vị km/h.\n",
    "\n",
    "a. Hỏi trung bình mỗi phút đoàn tàu đi được bao nhiêu mét?\n",
    "\n",
    "b. Sau 1 giờ 12 phút đoàn tàu đi được bao nhiêu km?"
   ]
  },
  {
   "cell_type": "code",
   "execution_count": 1,
   "id": "ed653f16-a0a6-4a4c-a9e9-cfc62ef2ef14",
   "metadata": {},
   "outputs": [
    {
     "name": "stdin",
     "output_type": "stream",
     "text": [
      "Nhập vận tốc của đoàn tàu (km/h):  33\n"
     ]
    },
    {
     "name": "stdout",
     "output_type": "stream",
     "text": [
      "Trung bình mỗi phút đoàn tàu đi được: 550.0 m\n",
      "Đoàn tàu đi được sau 1 giờ 12 phút: 39.6 km\n"
     ]
    }
   ],
   "source": [
    "van_toc_km_h = float(input(\"Nhập vận tốc của đoàn tàu (km/h): \"))\n",
    "van_toc_m_p = van_toc_km_h / 60 * 1000\n",
    "print(\"Trung bình mỗi phút đoàn tàu đi được:\", van_toc_m_p, \"m\")\n",
    "thoi_gian_gio = 1\n",
    "thoi_gian_phut = 12\n",
    "thoi_gian_tong = thoi_gian_gio + thoi_gian_phut / 60\n",
    "khoang_cach_km = van_toc_km_h * thoi_gian_tong\n",
    "print(\"Đoàn tàu đi được sau 1 giờ 12 phút:\", khoang_cach_km, \"km\")\n"
   ]
  },
  {
   "cell_type": "code",
   "execution_count": null,
   "id": "6263ebfd-69fb-445c-81c3-b5a89d8ae7e3",
   "metadata": {},
   "outputs": [],
   "source": []
  },
  {
   "cell_type": "code",
   "execution_count": null,
   "id": "64201cb6-9d2e-48df-bb13-ce26ddbde86b",
   "metadata": {},
   "outputs": [],
   "source": []
  },
  {
   "cell_type": "code",
   "execution_count": null,
   "id": "c20fd63d-0114-45a8-adfa-459fb619682a",
   "metadata": {},
   "outputs": [],
   "source": []
  },
  {
   "cell_type": "code",
   "execution_count": null,
   "id": "d1ad80c8-80a9-42a5-977d-ee2d2f62a983",
   "metadata": {},
   "outputs": [],
   "source": []
  }
 ],
 "metadata": {
  "kernelspec": {
   "display_name": "Python 3 (ipykernel)",
   "language": "python",
   "name": "python3"
  },
  "language_info": {
   "codemirror_mode": {
    "name": "ipython",
    "version": 3
   },
   "file_extension": ".py",
   "mimetype": "text/x-python",
   "name": "python",
   "nbconvert_exporter": "python",
   "pygments_lexer": "ipython3",
   "version": "3.12.3"
  }
 },
 "nbformat": 4,
 "nbformat_minor": 5
}
